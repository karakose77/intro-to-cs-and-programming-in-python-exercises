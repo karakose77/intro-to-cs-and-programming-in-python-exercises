{
 "cells": [
  {
   "cell_type": "markdown",
   "metadata": {},
   "source": [
    "## Problem ##\n",
    "Given a set of integers, generate the collections of all possible subsets."
   ]
  },
  {
   "cell_type": "code",
   "execution_count": 1,
   "metadata": {
    "pycharm": {
     "is_executing": false
    }
   },
   "outputs": [],
   "source": [
    "def generate_all_subsets(initial_list):\n",
    "    \"\"\"\n",
    "    Get all the subsets of remaining_list. For each of those subsets, \n",
    "    a full subset list will contain both the original subset as well as \n",
    "    a version of the subset that contains first_element.\n",
    "    \"\"\"    \n",
    "    if len(initial_list) == 0:\n",
    "        # LIST OF EMPTY LISTS\n",
    "        return [[]]\n",
    "    subsets = []\n",
    "    # A SUBSET WITH ONLY THE FIRST ELEMENT\n",
    "    first_element = initial_list[0]\n",
    "    # ALL SUBSETS WITHOUT FIRST ELEMENT\n",
    "    remaining_list = initial_list[1:]\n",
    "    for remaining_subset in generate_all_subsets(remaining_list):\n",
    "        # FOR ALL REMAINING LISTS, ADD ALL OF THE SUBSETS\n",
    "        subsets.append(remaining_subset)\n",
    "        # FOR ALL REMAINING LISTS, ADD ONE WITH FIRST ELEMENT\n",
    "        subsets.append(([first_element] + remaining_subset[:]))\n",
    "    return subsets         "
   ]
  },
  {
   "cell_type": "code",
   "execution_count": 2,
   "metadata": {
    "pycharm": {
     "is_executing": false
    }
   },
   "outputs": [
    {
     "data": {
      "text/plain": "[[],\n [1],\n [2],\n [1, 2],\n [3],\n [1, 3],\n [2, 3],\n [1, 2, 3],\n [4],\n [1, 4],\n [2, 4],\n [1, 2, 4],\n [3, 4],\n [1, 3, 4],\n [2, 3, 4],\n [1, 2, 3, 4],\n [5],\n [1, 5],\n [2, 5],\n [1, 2, 5],\n [3, 5],\n [1, 3, 5],\n [2, 3, 5],\n [1, 2, 3, 5],\n [4, 5],\n [1, 4, 5],\n [2, 4, 5],\n [1, 2, 4, 5],\n [3, 4, 5],\n [1, 3, 4, 5],\n [2, 3, 4, 5],\n [1, 2, 3, 4, 5],\n [6],\n [1, 6],\n [2, 6],\n [1, 2, 6],\n [3, 6],\n [1, 3, 6],\n [2, 3, 6],\n [1, 2, 3, 6],\n [4, 6],\n [1, 4, 6],\n [2, 4, 6],\n [1, 2, 4, 6],\n [3, 4, 6],\n [1, 3, 4, 6],\n [2, 3, 4, 6],\n [1, 2, 3, 4, 6],\n [5, 6],\n [1, 5, 6],\n [2, 5, 6],\n [1, 2, 5, 6],\n [3, 5, 6],\n [1, 3, 5, 6],\n [2, 3, 5, 6],\n [1, 2, 3, 5, 6],\n [4, 5, 6],\n [1, 4, 5, 6],\n [2, 4, 5, 6],\n [1, 2, 4, 5, 6],\n [3, 4, 5, 6],\n [1, 3, 4, 5, 6],\n [2, 3, 4, 5, 6],\n [1, 2, 3, 4, 5, 6],\n [7],\n [1, 7],\n [2, 7],\n [1, 2, 7],\n [3, 7],\n [1, 3, 7],\n [2, 3, 7],\n [1, 2, 3, 7],\n [4, 7],\n [1, 4, 7],\n [2, 4, 7],\n [1, 2, 4, 7],\n [3, 4, 7],\n [1, 3, 4, 7],\n [2, 3, 4, 7],\n [1, 2, 3, 4, 7],\n [5, 7],\n [1, 5, 7],\n [2, 5, 7],\n [1, 2, 5, 7],\n [3, 5, 7],\n [1, 3, 5, 7],\n [2, 3, 5, 7],\n [1, 2, 3, 5, 7],\n [4, 5, 7],\n [1, 4, 5, 7],\n [2, 4, 5, 7],\n [1, 2, 4, 5, 7],\n [3, 4, 5, 7],\n [1, 3, 4, 5, 7],\n [2, 3, 4, 5, 7],\n [1, 2, 3, 4, 5, 7],\n [6, 7],\n [1, 6, 7],\n [2, 6, 7],\n [1, 2, 6, 7],\n [3, 6, 7],\n [1, 3, 6, 7],\n [2, 3, 6, 7],\n [1, 2, 3, 6, 7],\n [4, 6, 7],\n [1, 4, 6, 7],\n [2, 4, 6, 7],\n [1, 2, 4, 6, 7],\n [3, 4, 6, 7],\n [1, 3, 4, 6, 7],\n [2, 3, 4, 6, 7],\n [1, 2, 3, 4, 6, 7],\n [5, 6, 7],\n [1, 5, 6, 7],\n [2, 5, 6, 7],\n [1, 2, 5, 6, 7],\n [3, 5, 6, 7],\n [1, 3, 5, 6, 7],\n [2, 3, 5, 6, 7],\n [1, 2, 3, 5, 6, 7],\n [4, 5, 6, 7],\n [1, 4, 5, 6, 7],\n [2, 4, 5, 6, 7],\n [1, 2, 4, 5, 6, 7],\n [3, 4, 5, 6, 7],\n [1, 3, 4, 5, 6, 7],\n [2, 3, 4, 5, 6, 7],\n [1, 2, 3, 4, 5, 6, 7]]"
     },
     "metadata": {},
     "output_type": "execute_result",
     "execution_count": 2
    }
   ],
   "source": [
    "generate_all_subsets([1,2,3,4,5,6,7])"
   ]
  }
 ],
 "metadata": {
  "kernelspec": {
   "name": "pycharm-200b3ee4",
   "language": "python",
   "display_name": "PyCharm (hello_world)"
  },
  "language_info": {
   "codemirror_mode": {
    "name": "ipython",
    "version": 3
   },
   "file_extension": ".py",
   "mimetype": "text/x-python",
   "name": "python",
   "nbconvert_exporter": "python",
   "pygments_lexer": "ipython3",
   "version": "3.7.3"
  },
  "pycharm": {
   "stem_cell": {
    "cell_type": "raw",
    "source": [],
    "metadata": {
     "collapsed": false
    }
   }
  }
 },
 "nbformat": 4,
 "nbformat_minor": 4
}