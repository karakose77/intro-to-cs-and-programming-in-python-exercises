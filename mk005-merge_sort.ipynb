{
 "cells": [
  {
   "cell_type": "markdown",
   "metadata": {},
   "source": [
    "## Problem ##\n",
    "Sort a given list of numbers in an ascending fashion with merge sort algorithm."
   ]
  },
  {
   "cell_type": "code",
   "execution_count": 1,
   "metadata": {},
   "outputs": [],
   "source": [
    "def merge(left, right):\n",
    "    \"\"\"\n",
    "    This function takes two lists and sorts their elements from smaller\n",
    "    to greater with respect to each other. Because merge_sort calls this\n",
    "    function the arguments of this function will be single element lists.\n",
    "    \"\"\"    \n",
    "    result = []\n",
    "    i,j = 0,0\n",
    "    \n",
    "    while i < len(left) and j < len(right):        \n",
    "        if left[i] < right[j]:\n",
    "            result.append(left[i])\n",
    "            i += 1            \n",
    "        else:\n",
    "            result.append(right[j])\n",
    "            j += 1\n",
    "            \n",
    "    while (i < len(left)):\n",
    "        result.append(left[i])\n",
    "        i += 1\n",
    "        \n",
    "    while (j < len(right)):\n",
    "        result.append(right[j])\n",
    "        j += 1\n",
    "        \n",
    "    print('merge: ' + str(left) + '&' + str(right) + ' to ' +str(result))    \n",
    "    return result\n",
    "\n",
    "def merge_sort(L):\n",
    "    \"\"\"\n",
    "    This function divides a list into two halves and calls itself for \n",
    "    both of the halves and calls itself again and again until two of \n",
    "    a single element lists remains. Then it calls merge function with those\n",
    "    lists as arguments; left and right.\n",
    "    \"\"\"    \n",
    "    print('merge sort: ' + str(L))\n",
    "    \n",
    "    if len(L) < 2:\n",
    "        return L[:]    \n",
    "    else:\n",
    "        middle = len(L)//2\n",
    "        left = merge_sort(L[:middle])\n",
    "        right = merge_sort(L[middle:])\n",
    "        return merge(left, right)"
   ]
  },
  {
   "cell_type": "code",
   "execution_count": 3,
   "metadata": {},
   "outputs": [
    {
     "name": "stdout",
     "output_type": "stream",
     "text": [
      "merge sort: [1, 3, 25, 5, 7, 18, 2, 13, 6]\n",
      "merge sort: [1, 3, 25, 5]\n",
      "merge sort: [1, 3]\n",
      "merge sort: [1]\n",
      "merge sort: [3]\n",
      "merge: [1]&[3] to [1, 3]\n",
      "merge sort: [25, 5]\n",
      "merge sort: [25]\n",
      "merge sort: [5]\n",
      "merge: [25]&[5] to [5, 25]\n",
      "merge: [1, 3]&[5, 25] to [1, 3, 5, 25]\n",
      "merge sort: [7, 18, 2, 13, 6]\n",
      "merge sort: [7, 18]\n",
      "merge sort: [7]\n",
      "merge sort: [18]\n",
      "merge: [7]&[18] to [7, 18]\n",
      "merge sort: [2, 13, 6]\n",
      "merge sort: [2]\n",
      "merge sort: [13, 6]\n",
      "merge sort: [13]\n",
      "merge sort: [6]\n",
      "merge: [13]&[6] to [6, 13]\n",
      "merge: [2]&[6, 13] to [2, 6, 13]\n",
      "merge: [7, 18]&[2, 6, 13] to [2, 6, 7, 13, 18]\n",
      "merge: [1, 3, 5, 25]&[2, 6, 7, 13, 18] to [1, 2, 3, 5, 6, 7, 13, 18, 25]\n"
     ]
    },
    {
     "data": {
      "text/plain": [
       "[1, 2, 3, 5, 6, 7, 13, 18, 25]"
      ]
     },
     "execution_count": 3,
     "metadata": {},
     "output_type": "execute_result"
    }
   ],
   "source": [
    "merge_sort([1,3,25,5,7,18,2,13,6])"
   ]
  },
  {
   "cell_type": "code",
   "execution_count": null,
   "metadata": {},
   "outputs": [],
   "source": []
  }
 ],
 "metadata": {
  "kernelspec": {
   "display_name": "Python 3",
   "language": "python",
   "name": "python3"
  },
  "language_info": {
   "codemirror_mode": {
    "name": "ipython",
    "version": 3
   },
   "file_extension": ".py",
   "mimetype": "text/x-python",
   "name": "python",
   "nbconvert_exporter": "python",
   "pygments_lexer": "ipython3",
   "version": "3.6.8"
  }
 },
 "nbformat": 4,
 "nbformat_minor": 2
}
