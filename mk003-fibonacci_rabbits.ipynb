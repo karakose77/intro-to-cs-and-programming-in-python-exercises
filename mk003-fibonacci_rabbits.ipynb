{
 "cells": [
  {
   "cell_type": "markdown",
   "metadata": {},
   "source": [
    "## Problem ##\n",
    "Fibonacci considers the growth of an idealized (biologically unrealistic) rabbit population, assuming that:\n",
    "\n",
    "1. A single newly born pair of rabbits (one male, one female) are put in a field;\n",
    "2. Rabbits are able to mate at the age of one month so that at the end of its second month a female can produce another pair of rabbits;\n",
    "3. Rabbits never die and a mating pair always produces one new pair (one male, one female) every month from the second month on.\n",
    "\n",
    "The puzzle that Fibonacci posed was: how many pairs will there be in a given time period?"
   ]
  },
  {
   "cell_type": "code",
   "execution_count": 12,
   "metadata": {},
   "outputs": [],
   "source": [
    "def populate_while(remaining_months, infant_num = 2, mature_num = 0, month_count = 0):\n",
    "    \"\"\"\n",
    "    This function calculates the population of infant and mature rabbit population of\n",
    "    Fibonacci rabbits after a given amount of time(remaining_months) by utilizing a\n",
    "    while loop. The function assumes there is an infant pair at month=0.\n",
    "    \"\"\"\n",
    "        \n",
    "        while remaining_months > 0:            \n",
    "            month_count      += 1\n",
    "            remaining_months -= 1\n",
    "            infant_num, mature_num = mature_num, infant_num + mature_num             \n",
    "            print(f\"Month {month_count}: {infant_num:2} infant, {mature_num:2} mature\")\n",
    "            \n",
    "        print(f\"Total population: {(infant_num + mature_num)}\")    \n",
    "        return infant_num + mature_num  \n",
    "    \n",
    "    \n",
    "def populate_recursive(remaining_months, infant_num = 2, mature_num = 0, month_count = 0):\n",
    "    \"\"\"\n",
    "    This function calculates the population of infant and mature rabbit population of\n",
    "    Fibonacci rabbits after a given amount of time(remaining_months) recursively. \n",
    "    The function assumes there is an infant pair at month=0.\n",
    "    \"\"\"\n",
    "    \n",
    "    if remaining_months > 0:        \n",
    "        month_count += 1\n",
    "        infant_num, mature_num = mature_num, infant_num + mature_num\n",
    "        print(f\"Month {month_count}: {infant_num:2} infant, {mature_num:2} mature\")\n",
    "        remaining_months -= 1\n",
    "        return populate_recursive(remaining_months, infant_num, mature_num, month_count)\n",
    "    \n",
    "    else:\n",
    "        print(f\"Total population: {(infant_num + mature_num)}\")\n",
    "        return infant_num + mature_num"
   ]
  },
  {
   "cell_type": "code",
   "execution_count": 13,
   "metadata": {},
   "outputs": [
    {
     "name": "stdout",
     "output_type": "stream",
     "text": [
      "Month 1:  0 infant,  2 mature\n",
      "Month 2:  2 infant,  2 mature\n",
      "Month 3:  2 infant,  4 mature\n",
      "Month 4:  4 infant,  6 mature\n",
      "Month 5:  6 infant, 10 mature\n",
      "Month 6: 10 infant, 16 mature\n",
      "Total population: 26\n"
     ]
    },
    {
     "data": {
      "text/plain": [
       "26"
      ]
     },
     "execution_count": 13,
     "metadata": {},
     "output_type": "execute_result"
    }
   ],
   "source": [
    "populate_while(6)"
   ]
  },
  {
   "cell_type": "code",
   "execution_count": 14,
   "metadata": {},
   "outputs": [
    {
     "name": "stdout",
     "output_type": "stream",
     "text": [
      "Month 1:  0 infant,  2 mature\n",
      "Month 2:  2 infant,  2 mature\n",
      "Month 3:  2 infant,  4 mature\n",
      "Month 4:  4 infant,  6 mature\n",
      "Month 5:  6 infant, 10 mature\n",
      "Month 6: 10 infant, 16 mature\n",
      "Total population: 26\n"
     ]
    },
    {
     "data": {
      "text/plain": [
       "26"
      ]
     },
     "execution_count": 14,
     "metadata": {},
     "output_type": "execute_result"
    }
   ],
   "source": [
    "populate_recursive(6)"
   ]
  }
 ],
 "metadata": {
  "kernelspec": {
   "display_name": "Python 3",
   "language": "python",
   "name": "python3"
  },
  "language_info": {
   "codemirror_mode": {
    "name": "ipython",
    "version": 3
   },
   "file_extension": ".py",
   "mimetype": "text/x-python",
   "name": "python",
   "nbconvert_exporter": "python",
   "pygments_lexer": "ipython3",
   "version": "3.6.8"
  }
 },
 "nbformat": 4,
 "nbformat_minor": 2
}
