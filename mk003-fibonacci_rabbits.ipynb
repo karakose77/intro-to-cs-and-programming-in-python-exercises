{
 "cells": [
  {
   "cell_type": "markdown",
   "metadata": {},
   "source": [
    "## Fibonacci Rabbits\n",
    "Fibonacci considers the growth of an idealized (biologically unrealistic) rabbit population, assuming that:\n",
    "\n",
    "1. A single newly born pair of rabbits (one male, one female) are put in a field;\n",
    "2. Rabbits are able to mate at the age of one month so that at the end of its second month a female can produce another pair of rabbits;\n",
    "3. Rabbits never die and a mating pair always produces one new pair (one male, one female) every month from the second month on.\n",
    "\n",
    "The puzzle that Fibonacci posed was: how many pairs will there be in a given time period?"
   ]
  },
  {
   "cell_type": "code",
   "execution_count": 6,
   "metadata": {},
   "outputs": [],
   "source": [
    "def populate_iterative(remaining_months, infant_num = 2, mature_num = 0, month_count = 0):\n",
    "    \"\"\"\n",
    "    This function calculates the population of infant and mature rabbit population of\n",
    "    Fibonacci rabbits after a given amount of time(remaining_months) by utilizing a\n",
    "    while loop. The function assumes there is an infant pair at month=0.\n",
    "    \"\"\"        \n",
    "    while remaining_months > 0:            \n",
    "        month_count      += 1\n",
    "        remaining_months -= 1\n",
    "        infant_num, mature_num = mature_num, infant_num + mature_num             \n",
    "        print(f\"Month {month_count}: {infant_num:2} infant, {mature_num:2} mature\")            \n",
    "    print(f\"Total population: {(infant_num + mature_num)}\")    \n",
    "    return infant_num + mature_num  \n",
    "\n",
    "def populate_iterative_timeit(remaining_months, infant_num = 2, mature_num = 0, month_count = 0):\n",
    "    \"\"\"\n",
    "    This function calculates the population of infant and mature rabbit population of\n",
    "    Fibonacci rabbits after a given amount of time(remaining_months) by utilizing a\n",
    "    while loop. The function assumes there is an infant pair at month=0.\n",
    "    \"\"\"        \n",
    "    while remaining_months > 0:            \n",
    "        month_count      += 1\n",
    "        remaining_months -= 1\n",
    "        infant_num, mature_num = mature_num, infant_num + mature_num   \n",
    "    return infant_num + mature_num  \n",
    "    \n",
    "    \n",
    "def populate_recursive(remaining_months, infant_num = 2, mature_num = 0, month_count = 0):\n",
    "    \"\"\"\n",
    "    This function calculates the population of infant and mature rabbit population of\n",
    "    Fibonacci rabbits after a given amount of time(remaining_months) recursively. \n",
    "    The function assumes there is an infant pair at month=0.\n",
    "    \"\"\"    \n",
    "    if remaining_months > 0:        \n",
    "        month_count += 1\n",
    "        infant_num, mature_num = mature_num, infant_num + mature_num\n",
    "        print(f\"Month {month_count}: {infant_num:2} infant, {mature_num:2} mature\")\n",
    "        remaining_months -= 1\n",
    "        return populate_recursive(remaining_months, infant_num, mature_num, month_count)    \n",
    "    else:\n",
    "        print(f\"Total population: {(infant_num + mature_num)}\")\n",
    "        return infant_num + mature_num\n",
    "    \n",
    "def populate_recursive_timeit(remaining_months, infant_num = 2, mature_num = 0, month_count = 0):\n",
    "    \"\"\"\n",
    "    This function calculates the population of infant and mature rabbit population of\n",
    "    Fibonacci rabbits after a given amount of time(remaining_months) recursively. \n",
    "    The function assumes there is an infant pair at month=0.\n",
    "    \"\"\"    \n",
    "    if remaining_months > 0:        \n",
    "        month_count += 1\n",
    "        infant_num, mature_num = mature_num, infant_num + mature_num\n",
    "        remaining_months -= 1\n",
    "        return populate_recursive_timeit(remaining_months, infant_num, mature_num, month_count)    \n",
    "    else:\n",
    "        return infant_num + mature_num"
   ]
  },
  {
   "cell_type": "code",
   "execution_count": 7,
   "metadata": {},
   "outputs": [
    {
     "name": "stdout",
     "output_type": "stream",
     "text": [
      "Month 1:  0 infant,  2 mature\n",
      "Month 2:  2 infant,  2 mature\n",
      "Month 3:  2 infant,  4 mature\n",
      "Month 4:  4 infant,  6 mature\n",
      "Month 5:  6 infant, 10 mature\n",
      "Month 6: 10 infant, 16 mature\n",
      "Month 7: 16 infant, 26 mature\n",
      "Month 8: 26 infant, 42 mature\n",
      "Month 9: 42 infant, 68 mature\n",
      "Month 10: 68 infant, 110 mature\n",
      "Month 11: 110 infant, 178 mature\n",
      "Month 12: 178 infant, 288 mature\n",
      "Month 13: 288 infant, 466 mature\n",
      "Month 14: 466 infant, 754 mature\n",
      "Month 15: 754 infant, 1220 mature\n",
      "Month 16: 1220 infant, 1974 mature\n",
      "Month 17: 1974 infant, 3194 mature\n",
      "Month 18: 3194 infant, 5168 mature\n",
      "Month 19: 5168 infant, 8362 mature\n",
      "Month 20: 8362 infant, 13530 mature\n",
      "Month 21: 13530 infant, 21892 mature\n",
      "Month 22: 21892 infant, 35422 mature\n",
      "Month 23: 35422 infant, 57314 mature\n",
      "Month 24: 57314 infant, 92736 mature\n",
      "Total population: 150050\n"
     ]
    },
    {
     "data": {
      "text/plain": [
       "150050"
      ]
     },
     "execution_count": 7,
     "metadata": {},
     "output_type": "execute_result"
    }
   ],
   "source": [
    "populate_iterative(24)"
   ]
  },
  {
   "cell_type": "code",
   "execution_count": 8,
   "metadata": {},
   "outputs": [
    {
     "name": "stdout",
     "output_type": "stream",
     "text": [
      "Month 1:  0 infant,  2 mature\n",
      "Month 2:  2 infant,  2 mature\n",
      "Month 3:  2 infant,  4 mature\n",
      "Month 4:  4 infant,  6 mature\n",
      "Month 5:  6 infant, 10 mature\n",
      "Month 6: 10 infant, 16 mature\n",
      "Month 7: 16 infant, 26 mature\n",
      "Month 8: 26 infant, 42 mature\n",
      "Month 9: 42 infant, 68 mature\n",
      "Month 10: 68 infant, 110 mature\n",
      "Month 11: 110 infant, 178 mature\n",
      "Month 12: 178 infant, 288 mature\n",
      "Month 13: 288 infant, 466 mature\n",
      "Month 14: 466 infant, 754 mature\n",
      "Month 15: 754 infant, 1220 mature\n",
      "Month 16: 1220 infant, 1974 mature\n",
      "Month 17: 1974 infant, 3194 mature\n",
      "Month 18: 3194 infant, 5168 mature\n",
      "Month 19: 5168 infant, 8362 mature\n",
      "Month 20: 8362 infant, 13530 mature\n",
      "Month 21: 13530 infant, 21892 mature\n",
      "Month 22: 21892 infant, 35422 mature\n",
      "Month 23: 35422 infant, 57314 mature\n",
      "Month 24: 57314 infant, 92736 mature\n",
      "Total population: 150050\n"
     ]
    },
    {
     "data": {
      "text/plain": [
       "150050"
      ]
     },
     "execution_count": 8,
     "metadata": {},
     "output_type": "execute_result"
    }
   ],
   "source": [
    "populate_recursive(24)"
   ]
  },
  {
   "cell_type": "code",
   "execution_count": 9,
   "metadata": {},
   "outputs": [
    {
     "name": "stdout",
     "output_type": "stream",
     "text": [
      "4.32 µs ± 627 ns per loop (mean ± std. dev. of 7 runs, 100000 loops each)\n"
     ]
    }
   ],
   "source": [
    "%timeit populate_iterative_timeit(24)"
   ]
  },
  {
   "cell_type": "code",
   "execution_count": 10,
   "metadata": {},
   "outputs": [
    {
     "name": "stdout",
     "output_type": "stream",
     "text": [
      "7.86 µs ± 520 ns per loop (mean ± std. dev. of 7 runs, 100000 loops each)\n"
     ]
    }
   ],
   "source": [
    "%timeit populate_recursive_timeit(24)"
   ]
  },
  {
   "cell_type": "markdown",
   "metadata": {},
   "source": [
    "Iteration algorithm is faster than recursive one."
   ]
  },
  {
   "cell_type": "code",
   "execution_count": null,
   "metadata": {},
   "outputs": [],
   "source": []
  }
 ],
 "metadata": {
  "kernelspec": {
   "display_name": "Python 3",
   "language": "python",
   "name": "python3"
  },
  "language_info": {
   "codemirror_mode": {
    "name": "ipython",
    "version": 3
   },
   "file_extension": ".py",
   "mimetype": "text/x-python",
   "name": "python",
   "nbconvert_exporter": "python",
   "pygments_lexer": "ipython3",
   "version": "3.7.3"
  }
 },
 "nbformat": 4,
 "nbformat_minor": 4
}
