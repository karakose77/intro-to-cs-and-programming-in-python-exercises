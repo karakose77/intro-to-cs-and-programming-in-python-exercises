{
 "cells": [
  {
   "cell_type": "markdown",
   "metadata": {},
   "source": [
    "## Problem ##\n",
    "Find the largest odd one in a given list of numbers."
   ]
  },
  {
   "cell_type": "code",
   "execution_count": 1,
   "metadata": {},
   "outputs": [],
   "source": [
    "def largest_odd():\n",
    "    \"\"\"\n",
    "    Inputs any number of integers, puts them in a list \n",
    "    and calls check_largest_odd function.\n",
    "    \"\"\"    \n",
    "    num_list = []\n",
    "    num_count = int(input(\"How many numbers are you going to enter?: \"))\n",
    "    \n",
    "    for i in range(1, num_count + 1):\n",
    "        num = int(input(f\"Please enter number {i}:\"))\n",
    "        num_list.append(num)\n",
    "        \n",
    "    return check_largest_odd(num_list)\n",
    "\n",
    "\n",
    "def check_largest_odd(num_list):\n",
    "    \"\"\"\n",
    "    Return the largest odd number.\n",
    "    \"\"\"    \n",
    "    odd_list = []\n",
    "    num_list.reverse()\n",
    "    \n",
    "    for item in num_list:\n",
    "        if item % 2 != 0:\n",
    "            odd_list.append(item)\n",
    "        else:\n",
    "            continue\n",
    "\n",
    "    if len(odd_list) == 0:\n",
    "        return \"There are no odd numbers among the entered ones.\"    \n",
    "    else:\n",
    "         return odd_list[0]"
   ]
  },
  {
   "cell_type": "code",
   "execution_count": 2,
   "metadata": {},
   "outputs": [
    {
     "name": "stdin",
     "output_type": "stream",
     "text": [
      "How many numbers are you going to enter?:  5\n",
      "Please enter number 1: 1\n",
      "Please enter number 2: 2\n",
      "Please enter number 3: 8\n",
      "Please enter number 4: 5\n",
      "Please enter number 5: 9\n"
     ]
    },
    {
     "data": {
      "text/plain": [
       "9"
      ]
     },
     "execution_count": 2,
     "metadata": {},
     "output_type": "execute_result"
    }
   ],
   "source": [
    "largest_odd()"
   ]
  },
  {
   "cell_type": "code",
   "execution_count": null,
   "metadata": {},
   "outputs": [],
   "source": []
  }
 ],
 "metadata": {
  "kernelspec": {
   "display_name": "Python 3",
   "language": "python",
   "name": "python3"
  },
  "language_info": {
   "codemirror_mode": {
    "name": "ipython",
    "version": 3
   },
   "file_extension": ".py",
   "mimetype": "text/x-python",
   "name": "python",
   "nbconvert_exporter": "python",
   "pygments_lexer": "ipython3",
   "version": "3.6.8"
  }
 },
 "nbformat": 4,
 "nbformat_minor": 2
}
