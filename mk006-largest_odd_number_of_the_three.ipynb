{
 "cells": [
  {
   "cell_type": "markdown",
   "metadata": {},
   "source": [
    "## Largest Odd Number\n",
    "Find the largest odd one in a given list of numbers."
   ]
  },
  {
   "cell_type": "code",
   "execution_count": 9,
   "metadata": {},
   "outputs": [],
   "source": [
    "def largest_odd_number():\n",
    "    \"\"\"\n",
    "    Inputs any number of integers, puts them in a list \n",
    "    if it is an odd number and returns the largest one.\n",
    "    \"\"\"\n",
    "    odd_number_list = []\n",
    "    num_count = int(input(\"How many numbers are you going to enter?: \"))    \n",
    "    for i in range(1, num_count + 1):\n",
    "        number = int(input(f\"Please enter number {i}:\"))\n",
    "        if number % 2 != 0:\n",
    "            odd_number_list.append(number)\n",
    "    if len(odd_number_list) == 0:\n",
    "        return \"There are no odd numbers among the entered ones.\"    \n",
    "    else:\n",
    "        return max(odd_number_list)"
   ]
  },
  {
   "cell_type": "code",
   "execution_count": 10,
   "metadata": {},
   "outputs": [
    {
     "name": "stdin",
     "output_type": "stream",
     "text": [
      "How many numbers are you going to enter?:  5\n",
      "Please enter number 1: 2\n",
      "Please enter number 2: 4\n",
      "Please enter number 3: 6\n",
      "Please enter number 4: 8\n",
      "Please enter number 5: -10\n"
     ]
    },
    {
     "data": {
      "text/plain": [
       "'There are no odd numbers among the entered ones.'"
      ]
     },
     "execution_count": 10,
     "metadata": {},
     "output_type": "execute_result"
    }
   ],
   "source": [
    "largest_odd_number()"
   ]
  },
  {
   "cell_type": "code",
   "execution_count": 11,
   "metadata": {},
   "outputs": [
    {
     "name": "stdin",
     "output_type": "stream",
     "text": [
      "How many numbers are you going to enter?:  5\n",
      "Please enter number 1: -11\n",
      "Please enter number 2: 9\n",
      "Please enter number 3: 20\n",
      "Please enter number 4: -16\n",
      "Please enter number 5: 4\n"
     ]
    },
    {
     "data": {
      "text/plain": [
       "9"
      ]
     },
     "execution_count": 11,
     "metadata": {},
     "output_type": "execute_result"
    }
   ],
   "source": [
    "largest_odd_number()"
   ]
  }
 ],
 "metadata": {
  "kernelspec": {
   "display_name": "Python 3",
   "language": "python",
   "name": "python3"
  },
  "language_info": {
   "codemirror_mode": {
    "name": "ipython",
    "version": 3
   },
   "file_extension": ".py",
   "mimetype": "text/x-python",
   "name": "python",
   "nbconvert_exporter": "python",
   "pygments_lexer": "ipython3",
   "version": "3.7.3"
  }
 },
 "nbformat": 4,
 "nbformat_minor": 4
}
