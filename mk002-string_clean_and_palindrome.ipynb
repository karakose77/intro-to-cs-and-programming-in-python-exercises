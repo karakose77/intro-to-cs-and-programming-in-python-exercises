{
 "cells": [
  {
   "cell_type": "markdown",
   "metadata": {},
   "source": [
    "## String Cleaning and Palindrome Detection"
   ]
  },
  {
   "cell_type": "code",
   "execution_count": 8,
   "metadata": {},
   "outputs": [],
   "source": [
    "def clean_string(string):    \n",
    "    result = \"\"\n",
    "    string = string.lower()\n",
    "    for char in string:\n",
    "        if char in \"abcdefghijklmnopqrstuvwxyz0123456789\":\n",
    "            result += char   \n",
    "    return result\n",
    "\n",
    "is_palindrome = lambda string: string == string[::-1]\n",
    "        \n",
    "is_palindrome_cleaned_string = lambda string: (is_palindrome(clean_string(string)), clean_string(string))"
   ]
  },
  {
   "cell_type": "code",
   "execution_count": 9,
   "metadata": {},
   "outputs": [
    {
     "data": {
      "text/plain": [
       "(True, 'ablewasiereisawelba')"
      ]
     },
     "execution_count": 9,
     "metadata": {},
     "output_type": "execute_result"
    }
   ],
   "source": [
    "is_palindrome_cleaned_string(\"Ab^^^^le was I, ,,,....???___ere I s///****,,,,,,!!!aw Elba\")"
   ]
  },
  {
   "cell_type": "code",
   "execution_count": null,
   "metadata": {},
   "outputs": [],
   "source": []
  }
 ],
 "metadata": {
  "kernelspec": {
   "display_name": "Python 3",
   "language": "python",
   "name": "python3"
  },
  "language_info": {
   "codemirror_mode": {
    "name": "ipython",
    "version": 3
   },
   "file_extension": ".py",
   "mimetype": "text/x-python",
   "name": "python",
   "nbconvert_exporter": "python",
   "pygments_lexer": "ipython3",
   "version": "3.7.3"
  }
 },
 "nbformat": 4,
 "nbformat_minor": 4
}
