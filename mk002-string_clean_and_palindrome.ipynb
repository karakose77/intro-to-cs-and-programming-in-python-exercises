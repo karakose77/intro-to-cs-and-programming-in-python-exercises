{
 "cells": [
  {
   "cell_type": "code",
   "execution_count": 13,
   "metadata": {},
   "outputs": [],
   "source": [
    "def clean_string_is_palindrome(string):\n",
    "    \n",
    "    def clean_string(string):\n",
    "        \"\"\"\n",
    "        This function clears given strings from non-alphanumeric characters \n",
    "        and converts them to lowercase.\n",
    "        \"\"\"\n",
    "    \n",
    "        result = \"\"\n",
    "        string = string.lower()\n",
    "\n",
    "        for char in string:\n",
    "\n",
    "            if char in \"abcdefghijklmnopqrstuvwxyz0123456789\":\n",
    "                result += char   \n",
    "\n",
    "        return result\n",
    "    \n",
    "    def is_palindrome(string):\n",
    "        \"\"\"\n",
    "        This function determines whether the cleaned string is a palindrome or not.\n",
    "        \"\"\"\n",
    "\n",
    "        if len(string) <= 1:\n",
    "            return True\n",
    "\n",
    "        else:\n",
    "            return string[0] == string[-1] and is_palindrome(string[1:-1])\n",
    "        \n",
    "    return (is_palindrome(clean_string(string))), clean_string(string)"
   ]
  },
  {
   "cell_type": "code",
   "execution_count": 14,
   "metadata": {},
   "outputs": [
    {
     "data": {
      "text/plain": [
       "(True, 'ablewasiereisawelba')"
      ]
     },
     "execution_count": 14,
     "metadata": {},
     "output_type": "execute_result"
    }
   ],
   "source": [
    "clean_string_is_palindrome(\"Ab^^^^le was I, ,,,....???___ere I s///****,,,,,,!!!aw Elba\")"
   ]
  },
  {
   "cell_type": "code",
   "execution_count": null,
   "metadata": {},
   "outputs": [],
   "source": []
  }
 ],
 "metadata": {
  "kernelspec": {
   "display_name": "Python 3",
   "language": "python",
   "name": "python3"
  },
  "language_info": {
   "codemirror_mode": {
    "name": "ipython",
    "version": 3
   },
   "file_extension": ".py",
   "mimetype": "text/x-python",
   "name": "python",
   "nbconvert_exporter": "python",
   "pygments_lexer": "ipython3",
   "version": "3.6.8"
  }
 },
 "nbformat": 4,
 "nbformat_minor": 2
}
