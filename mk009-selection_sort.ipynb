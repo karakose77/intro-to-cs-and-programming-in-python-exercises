{
 "cells": [
  {
   "cell_type": "markdown",
   "metadata": {},
   "source": [
    "## Selection Sort\n",
    "Sort a given list of numbers in an ascending fashion with selection sort algorithm."
   ]
  },
  {
   "cell_type": "code",
   "execution_count": 1,
   "metadata": {},
   "outputs": [],
   "source": [
    "def selection_sort(L):   \n",
    "    \"\"\"\n",
    "    This function sorts elements of a list of numbers from smaller\n",
    "    to greater. It takes an element from the list and compares it with \n",
    "    all the other elements. It then replaces places with that element if it\n",
    "    is greater than that element.\n",
    "    \"\"\"    \n",
    "    index = 0    \n",
    "    while index != len(L):\n",
    "        for i in range(index, len(L)):            \n",
    "            if L[i] < L[index]:\n",
    "                L[index], L[i] = L[i], L[index]                \n",
    "        index += 1\n",
    "        print('selection sort: ' + str(L))        \n",
    "    return L"
   ]
  },
  {
   "cell_type": "code",
   "execution_count": 2,
   "metadata": {},
   "outputs": [
    {
     "name": "stdout",
     "output_type": "stream",
     "text": [
      "selection sort: [-6, 3, 45, 5, 7, 1, 2, 6, 111, 25, 18, 13]\n",
      "selection sort: [-6, 1, 45, 5, 7, 3, 2, 6, 111, 25, 18, 13]\n",
      "selection sort: [-6, 1, 2, 45, 7, 5, 3, 6, 111, 25, 18, 13]\n",
      "selection sort: [-6, 1, 2, 3, 45, 7, 5, 6, 111, 25, 18, 13]\n",
      "selection sort: [-6, 1, 2, 3, 5, 45, 7, 6, 111, 25, 18, 13]\n",
      "selection sort: [-6, 1, 2, 3, 5, 6, 45, 7, 111, 25, 18, 13]\n",
      "selection sort: [-6, 1, 2, 3, 5, 6, 7, 45, 111, 25, 18, 13]\n",
      "selection sort: [-6, 1, 2, 3, 5, 6, 7, 13, 111, 45, 25, 18]\n",
      "selection sort: [-6, 1, 2, 3, 5, 6, 7, 13, 18, 111, 45, 25]\n",
      "selection sort: [-6, 1, 2, 3, 5, 6, 7, 13, 18, 25, 111, 45]\n",
      "selection sort: [-6, 1, 2, 3, 5, 6, 7, 13, 18, 25, 45, 111]\n",
      "selection sort: [-6, 1, 2, 3, 5, 6, 7, 13, 18, 25, 45, 111]\n"
     ]
    },
    {
     "data": {
      "text/plain": [
       "[-6, 1, 2, 3, 5, 6, 7, 13, 18, 25, 45, 111]"
      ]
     },
     "execution_count": 2,
     "metadata": {},
     "output_type": "execute_result"
    }
   ],
   "source": [
    "selection_sort([1,3,45,5,7,-6,2,6,111,25,18,13])"
   ]
  },
  {
   "cell_type": "code",
   "execution_count": null,
   "metadata": {},
   "outputs": [],
   "source": []
  }
 ],
 "metadata": {
  "kernelspec": {
   "display_name": "Python 3",
   "language": "python",
   "name": "python3"
  },
  "language_info": {
   "codemirror_mode": {
    "name": "ipython",
    "version": 3
   },
   "file_extension": ".py",
   "mimetype": "text/x-python",
   "name": "python",
   "nbconvert_exporter": "python",
   "pygments_lexer": "ipython3",
   "version": "3.7.3"
  }
 },
 "nbformat": 4,
 "nbformat_minor": 4
}
