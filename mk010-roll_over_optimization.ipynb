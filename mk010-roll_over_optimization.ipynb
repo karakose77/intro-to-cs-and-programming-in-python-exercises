{
 "cells": [
  {
   "cell_type": "markdown",
   "metadata": {},
   "source": [
    "# Roll Over Optimization\n",
    "\n",
    "Given values for F, ps1, ps2, ps3, ps4, ps5 find values for a, b, c, d, e that maximizes score.\n",
    "\n",
    "a, b, c, d, e are each 10 or 0.\n",
    "\n",
    "a + b + c + d + e $\\geq$ 20\n",
    "\n",
    "score = (60 - (a + b + c + d + e)) $\\cdot$ F + a $\\cdot$ ps1 + b $\\cdot$ ps2 + c $\\cdot$ ps3 + d $\\cdot$ ps4 + e $ \\cdot $ ps5 "
   ]
  },
  {
   "cell_type": "markdown",
   "metadata": {},
   "source": [
    "# Solution: #\n",
    "\n",
    "Grouping the input values F, ps1, ps2, ps3, ps4 and ps5 as coefficients and a, b, c, d and e as variables, score can be written as follows:\n",
    "\n",
    "score = 60 $\\cdot$ F + (ps1 - F) $\\cdot$ a + (ps2 - F) $\\cdot$ b + (ps3 - F) $\\cdot$ c + (ps4 - F) $\\cdot$ d + (ps5 - F) $\\cdot$ e"
   ]
  },
  {
   "cell_type": "code",
   "execution_count": 1,
   "metadata": {},
   "outputs": [],
   "source": [
    "def ten_zero(F, ps_list): \n",
    "    \"\"\"\n",
    "    This function determines a, b, c, d and e as 10 or 0. \n",
    "    In the for loop it calculates the coefficients and depending \n",
    "    on the values of the coefficients being negative or positive \n",
    "    it assigns 10 or 0 to a, b, c, d and e. So negative coefficient\n",
    "    variables becomes 0 and positive ones 10. a, b, c, d and e values\n",
    "    are stored in ten_zero_list.\n",
    "    After that, in the if statement, the function investigates if \n",
    "    the sum of variables is less than 20 or not. If not, it looks up \n",
    "    ps_list and appends the negative values into another list, ps_list_sub. \n",
    "    After that, ps_list_sub is sorted. The biggest one from the ps_list_sub's\n",
    "    index in the ps_list is determined. The index of the corresponding\n",
    "    variable from ten_zero_list is the same index. So the function converts \n",
    "    its value from 0 to 10, while simultaneoulsy checking whether the sum of \n",
    "    variables now is greater than 20 or not. It repeats this until the sum is \n",
    "    greater that 20.\n",
    "    \"\"\"    \n",
    "    ten_zero_list = []\n",
    "    ps_list_sub = []    \n",
    "    for i in range(len(ps_list)):        \n",
    "        ps_list[i] -= F\n",
    "        if ps_list[i] > 0:\n",
    "            ten_zero_list.append(10)\n",
    "        else:\n",
    "            ten_zero_list.append(0)       \n",
    "    if sum(ten_zero_list) < 20:         \n",
    "        for i in range(len(ps_list)):\n",
    "            if ps_list[i] < 0:\n",
    "                ps_list_sub.append(ps_list[i])\n",
    "        ps_list_sub.sort()\n",
    "        while sum(ten_zero_list) < 20:\n",
    "            idx = ps_list.index(ps_list_sub[-1])\n",
    "            ten_zero_list[idx] = 10\n",
    "            del ps_list_sub[ps_list_sub[-1]]\n",
    "    return ten_zero_list\n",
    "\n",
    "\n",
    "def score(F, ps_list):\n",
    "    \"\"\"\n",
    "    This function calculates score equation given in the solution\n",
    "    cell. In order to do that, it request ten_zero function with \n",
    "    F and ps_list as arguments, because a, b, c, d, e values must\n",
    "    be determined as 10 or 0 and those values should result maximum\n",
    "    score.\n",
    "    \"\"\"    \n",
    "    ten_zero_list = ten_zero(F, ps_list) \n",
    "    result = 60 * F    \n",
    "    for i in range(len(ps_list)):        \n",
    "        temp = ps_list[i] * ten_zero_list[i]\n",
    "        result += temp        \n",
    "    return result   \n",
    "\n",
    "\n",
    "def roll_over():\n",
    "    \"\"\"\n",
    "    This function requests F, ps1, ps2, ps3, ps4, ps5 as input \n",
    "    and writes ps1, ps2, ps3, ps4, ps5 in ps_list. It then calls\n",
    "    score function with the F and ps_list arguments.\n",
    "    \"\"\"    \n",
    "    ps_list = []\n",
    "    F = int(input(\"Enter F variable: \"))     \n",
    "    for i in range(5):\n",
    "        ps_list.append(int(input(f\"Enter ps{i} variable: \")))        \n",
    "    return score(F, ps_list)"
   ]
  },
  {
   "cell_type": "code",
   "execution_count": 2,
   "metadata": {},
   "outputs": [
    {
     "name": "stdin",
     "output_type": "stream",
     "text": [
      "Enter F variable:  1\n",
      "Enter ps0 variable:  12\n",
      "Enter ps1 variable:  8\n",
      "Enter ps2 variable:  6\n",
      "Enter ps3 variable:  16\n",
      "Enter ps4 variable:  32\n"
     ]
    },
    {
     "data": {
      "text/plain": [
       "750"
      ]
     },
     "execution_count": 2,
     "metadata": {},
     "output_type": "execute_result"
    }
   ],
   "source": [
    "roll_over()"
   ]
  },
  {
   "cell_type": "code",
   "execution_count": null,
   "metadata": {},
   "outputs": [],
   "source": []
  }
 ],
 "metadata": {
  "kernelspec": {
   "display_name": "Python 3",
   "language": "python",
   "name": "python3"
  },
  "language_info": {
   "codemirror_mode": {
    "name": "ipython",
    "version": 3
   },
   "file_extension": ".py",
   "mimetype": "text/x-python",
   "name": "python",
   "nbconvert_exporter": "python",
   "pygments_lexer": "ipython3",
   "version": "3.7.3"
  }
 },
 "nbformat": 4,
 "nbformat_minor": 4
}
