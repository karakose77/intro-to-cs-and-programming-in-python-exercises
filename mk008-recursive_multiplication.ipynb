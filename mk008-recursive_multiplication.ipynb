{
 "cells": [
  {
   "cell_type": "markdown",
   "metadata": {},
   "source": [
    "## Recursive Multiplication"
   ]
  },
  {
   "cell_type": "code",
   "execution_count": 11,
   "metadata": {},
   "outputs": [],
   "source": [
    "def recursive_multiply(a, b, turn=1):\n",
    "    print(f\"\\nMultiplication count {turn}: {a} * {b}.\")\n",
    "    turn += 1\n",
    "    if b == 1: \n",
    "        print(\"Calculation resolved.\")\n",
    "        return a    \n",
    "    else:\n",
    "        return a + recursive_multiply(a, b - 1, turn)"
   ]
  },
  {
   "cell_type": "code",
   "execution_count": 12,
   "metadata": {},
   "outputs": [
    {
     "name": "stdout",
     "output_type": "stream",
     "text": [
      "\n",
      "Multiplication count 1: 12 * 12.\n",
      "\n",
      "Multiplication count 2: 12 * 11.\n",
      "\n",
      "Multiplication count 3: 12 * 10.\n",
      "\n",
      "Multiplication count 4: 12 * 9.\n",
      "\n",
      "Multiplication count 5: 12 * 8.\n",
      "\n",
      "Multiplication count 6: 12 * 7.\n",
      "\n",
      "Multiplication count 7: 12 * 6.\n",
      "\n",
      "Multiplication count 8: 12 * 5.\n",
      "\n",
      "Multiplication count 9: 12 * 4.\n",
      "\n",
      "Multiplication count 10: 12 * 3.\n",
      "\n",
      "Multiplication count 11: 12 * 2.\n",
      "\n",
      "Multiplication count 12: 12 * 1.\n",
      "Calculation resolved.\n"
     ]
    },
    {
     "data": {
      "text/plain": [
       "144"
      ]
     },
     "execution_count": 12,
     "metadata": {},
     "output_type": "execute_result"
    }
   ],
   "source": [
    "recursive_multiply(12,12)"
   ]
  },
  {
   "cell_type": "code",
   "execution_count": null,
   "metadata": {},
   "outputs": [],
   "source": []
  }
 ],
 "metadata": {
  "kernelspec": {
   "display_name": "Python 3",
   "language": "python",
   "name": "python3"
  },
  "language_info": {
   "codemirror_mode": {
    "name": "ipython",
    "version": 3
   },
   "file_extension": ".py",
   "mimetype": "text/x-python",
   "name": "python",
   "nbconvert_exporter": "python",
   "pygments_lexer": "ipython3",
   "version": "3.7.3"
  }
 },
 "nbformat": 4,
 "nbformat_minor": 4
}
