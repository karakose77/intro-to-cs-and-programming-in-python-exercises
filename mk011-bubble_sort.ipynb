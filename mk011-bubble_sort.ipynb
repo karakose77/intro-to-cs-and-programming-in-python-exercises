{
 "cells": [
  {
   "cell_type": "markdown",
   "metadata": {},
   "source": [
    "## Bubble Sort\n",
    "Sort a list of integers by using bubble sort algorithm."
   ]
  },
  {
   "cell_type": "code",
   "execution_count": 1,
   "metadata": {},
   "outputs": [],
   "source": [
    "def bubble_sort(integers):\n",
    "    \"\"\"\n",
    "    This function sorts a list of integers in ascending order using bubble sort algorithm.\n",
    "    \"\"\"    \n",
    "    swap = False    \n",
    "    while not swap:\n",
    "        print('bubble sort: ' + str(integers))\n",
    "        swap = True        \n",
    "        for j in range(1, len(integers)):\n",
    "            if integers[j-1] > integers[j]:\n",
    "                swap = False\n",
    "                temp = integers[j] \n",
    "                # Any integer greater than the next one will be replaced with it.\n",
    "                integers[j] = integers[j-1]\n",
    "                integers[j-1] = temp\n",
    "    return integers"
   ]
  },
  {
   "cell_type": "code",
   "execution_count": 2,
   "metadata": {},
   "outputs": [
    {
     "name": "stdout",
     "output_type": "stream",
     "text": [
      "bubble sort: [25, 18, 1, 2, 6, 13, 3, 5, 7]\n",
      "bubble sort: [18, 1, 2, 6, 13, 3, 5, 7, 25]\n",
      "bubble sort: [1, 2, 6, 13, 3, 5, 7, 18, 25]\n",
      "bubble sort: [1, 2, 6, 3, 5, 7, 13, 18, 25]\n",
      "bubble sort: [1, 2, 3, 5, 6, 7, 13, 18, 25]\n"
     ]
    },
    {
     "data": {
      "text/plain": [
       "[1, 2, 3, 5, 6, 7, 13, 18, 25]"
      ]
     },
     "execution_count": 2,
     "metadata": {},
     "output_type": "execute_result"
    }
   ],
   "source": [
    "bubble_sort([25,18,1,2,6,13,3,5,7])"
   ]
  },
  {
   "cell_type": "code",
   "execution_count": null,
   "metadata": {},
   "outputs": [],
   "source": []
  }
 ],
 "metadata": {
  "kernelspec": {
   "display_name": "Python 3",
   "language": "python",
   "name": "python3"
  },
  "language_info": {
   "codemirror_mode": {
    "name": "ipython",
    "version": 3
   },
   "file_extension": ".py",
   "mimetype": "text/x-python",
   "name": "python",
   "nbconvert_exporter": "python",
   "pygments_lexer": "ipython3",
   "version": "3.7.3"
  }
 },
 "nbformat": 4,
 "nbformat_minor": 4
}
