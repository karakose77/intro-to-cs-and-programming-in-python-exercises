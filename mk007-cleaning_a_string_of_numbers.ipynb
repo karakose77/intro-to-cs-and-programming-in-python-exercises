{
 "cells": [
  {
   "cell_type": "markdown",
   "metadata": {},
   "source": [
    "## Problem ##\n",
    "Find the string of numbers in a given string of characters and put them into a list as floats."
   ]
  },
  {
   "cell_type": "code",
   "execution_count": 16,
   "metadata": {},
   "outputs": [],
   "source": [
    "def clean_string_of_numbers(string_of_numbers):\n",
    "    \"\"\"\n",
    "    Converts a string of integers into floats and puts them into a list.\n",
    "    \"\"\"    \n",
    "    string_of_numbers = string_of_numbers + \",\" \n",
    "    # , is needed for the last number to be added to the list.\n",
    "    number_string = \"\"\n",
    "    list_of_numbers = []\n",
    "    \n",
    "    for char in string_of_numbers:\n",
    "\n",
    "        if char in \"0123456789.-\": \n",
    "            # Any number or '.' and '-'(negative sign) character \n",
    "            # can be used to represent a number\n",
    "            number_string += char\n",
    "\n",
    "        elif char in \",\": \n",
    "            # , character represents that current number is finished \n",
    "            # in the string and the next one will start.\n",
    "            try:\n",
    "                number = float(number_string) \n",
    "                # Before adding to the list the string is converted to float.\n",
    "            except ValueError:\n",
    "                # If conversion fails, a ValueError is raised.\n",
    "                print(f\"{number_string} can not be converted into a number.\")\n",
    "                continue\n",
    "            list_of_numbers.append(number)\n",
    "            number_string = \"\" \n",
    "            # number_string is reset for the next string of number.\n",
    "            continue\n",
    "    \n",
    "    return list_of_numbers"
   ]
  },
  {
   "cell_type": "code",
   "execution_count": 17,
   "metadata": {},
   "outputs": [
    {
     "name": "stdout",
     "output_type": "stream",
     "text": [
      "76-.7 can not be converted into a number.\n"
     ]
    },
    {
     "data": {
      "text/plain": [
       "[1.23, 2.4, 3.123, 4.656654, 36.0, -123.5]"
      ]
     },
     "execution_count": 17,
     "metadata": {},
     "output_type": "execute_result"
    }
   ],
   "source": [
    "string_of_numbers = \"1.23, 2.4, 3.123, 4.656654, 36, -123.5, 76-.7\"\n",
    "clean_string_of_numbers(string_of_numbers)"
   ]
  },
  {
   "cell_type": "code",
   "execution_count": null,
   "metadata": {},
   "outputs": [],
   "source": []
  }
 ],
 "metadata": {
  "kernelspec": {
   "display_name": "Python 3",
   "language": "python",
   "name": "python3"
  },
  "language_info": {
   "codemirror_mode": {
    "name": "ipython",
    "version": 3
   },
   "file_extension": ".py",
   "mimetype": "text/x-python",
   "name": "python",
   "nbconvert_exporter": "python",
   "pygments_lexer": "ipython3",
   "version": "3.6.8"
  }
 },
 "nbformat": 4,
 "nbformat_minor": 2
}
