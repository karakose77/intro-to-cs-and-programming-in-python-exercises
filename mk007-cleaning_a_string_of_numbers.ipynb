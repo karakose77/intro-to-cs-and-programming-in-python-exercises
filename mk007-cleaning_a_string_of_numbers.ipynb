{
 "cells": [
  {
   "cell_type": "markdown",
   "metadata": {},
   "source": [
    "## Clean String of Numbers\n",
    "Find the string of numbers in a given string of characters and put them into a list as floats."
   ]
  },
  {
   "cell_type": "code",
   "execution_count": 9,
   "metadata": {},
   "outputs": [],
   "source": [
    "def clean_string_of_numbers(string_of_numbers):\n",
    "    \"\"\"\n",
    "    Converts a string of integers into floats and puts them into a list.\n",
    "    \"\"\"   \n",
    "    # \",\" IS NEEDED FOR THE LAST NUMBER TO BE ADDED TO THE LIST.\n",
    "    string_of_numbers += \",\"\n",
    "    number_string = \"\"\n",
    "    list_of_numbers = []    \n",
    "    for char in string_of_numbers:\n",
    "        # ANY NUMBER OR \".\" OR '-' CAN BE USED TO REPRESENT A NUMBER\n",
    "        if char in \"0123456789.-\":             \n",
    "            number_string += char\n",
    "        # \",\" IS THE CHARACTER BETWEEN NUMBERS\n",
    "        elif char == \",\":\n",
    "            try:\n",
    "                number = float(number_string)\n",
    "            except ValueError:\n",
    "                print(f\"{number_string} can not be converted into a number.\")\n",
    "                continue\n",
    "            list_of_numbers.append(number)\n",
    "            # \"number_string\" IS RESET FOR THE NEXT LOOP\n",
    "            number_string = \"\"             \n",
    "            continue    \n",
    "    return list_of_numbers"
   ]
  },
  {
   "cell_type": "code",
   "execution_count": 10,
   "metadata": {},
   "outputs": [
    {
     "name": "stdout",
     "output_type": "stream",
     "text": [
      "76-.7 can not be converted into a number.\n"
     ]
    },
    {
     "data": {
      "text/plain": [
       "[1.23, 2.4, 3.123, 4.656654, 36.0, -123.5]"
      ]
     },
     "execution_count": 10,
     "metadata": {},
     "output_type": "execute_result"
    }
   ],
   "source": [
    "string_of_numbers = \"1.23, 2.4, 3.123, 4.656654, 36, -123.5, 76-.7\"\n",
    "clean_string_of_numbers(string_of_numbers)"
   ]
  },
  {
   "cell_type": "code",
   "execution_count": null,
   "metadata": {},
   "outputs": [],
   "source": []
  }
 ],
 "metadata": {
  "kernelspec": {
   "display_name": "Python 3",
   "language": "python",
   "name": "python3"
  },
  "language_info": {
   "codemirror_mode": {
    "name": "ipython",
    "version": 3
   },
   "file_extension": ".py",
   "mimetype": "text/x-python",
   "name": "python",
   "nbconvert_exporter": "python",
   "pygments_lexer": "ipython3",
   "version": "3.7.3"
  }
 },
 "nbformat": 4,
 "nbformat_minor": 4
}
